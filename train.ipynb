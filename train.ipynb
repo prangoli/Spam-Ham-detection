{
 "cells": [
  {
   "cell_type": "markdown",
   "id": "b53fcbac-e7eb-4d9e-87a4-71d5b795b219",
   "metadata": {},
   "source": [
    "# Spam Detection with LSTM and Attention\n",
    "\n",
    "This notebook demonstrates the implementation of a neural network for detecting spam emails using LSTM and attention mechanisms. We will cover loading preprocessed data, defining the model architecture, training the model, and evaluating its performance."
   ]
  },
  {
   "cell_type": "code",
   "execution_count": null,
   "id": "3bc125cd-c4c9-4158-88db-d7f2740cb5f8",
   "metadata": {},
   "outputs": [],
   "source": [
    "import torch\n",
    "import torch.nn as nn\n",
    "import torch.optim as optim\n",
    "from torch.utils.data import DataLoader, Dataset\n",
    "import numpy as np\n",
    "import json\n",
    "from tensorflow.keras.preprocessing.text import tokenizer_from_json\n",
    "from sklearn.preprocessing import LabelEncoder\n",
    "from sklearn.metrics import f1_score\n",
    "\n",
    "from sklearn.metrics import confusion_matrix\n",
    "import matplotlib.pyplot as plt\n",
    "import seaborn as sns"
   ]
  },
  {
   "cell_type": "markdown",
   "id": "09ea7cef-631f-442a-903c-5046a6341e90",
   "metadata": {},
   "source": [
    "### Custom Dataset Class\n",
    "We define a custom Dataset class to load text data and labels."
   ]
  },
  {
   "cell_type": "code",
   "execution_count": 1,
   "id": "fb5059cc-55d7-4ae2-84be-5f282f20d87a",
   "metadata": {},
   "outputs": [],
   "source": [
    "# Custom Dataset class for loading data\n",
    "class TextDataset(Dataset):\n",
    "    def __init__(self, texts, labels):\n",
    "        self.texts = texts\n",
    "        self.labels = labels\n",
    "\n",
    "    def __len__(self):\n",
    "        return len(self.texts)\n",
    "\n",
    "    def __getitem__(self, idx):\n",
    "        text = self.texts[idx]\n",
    "        label = self.labels[idx]\n",
    "        return torch.tensor(text, dtype=torch.long), torch.tensor(label, dtype=torch.float)\n",
    "\n"
   ]
  },
  {
   "cell_type": "markdown",
   "id": "e414efde-c752-4117-91ef-e78302cffb54",
   "metadata": {},
   "source": [
    "### Neural Network Definition\n",
    "\n",
    "The neural network consists of an embedding layer, an LSTM layer, an attention mechanism, and fully connected layers."
   ]
  },
  {
   "cell_type": "code",
   "execution_count": null,
   "id": "7ea6eb70-1503-4040-8604-a8c75aef26e7",
   "metadata": {},
   "outputs": [],
   "source": [
    "# Define the neural network\n",
    "class SpamDetector(nn.Module):\n",
    "    def __init__(self, vocab_size, embedding_dim, hidden_dim, max_sequence_length):\n",
    "        super(SpamDetector, self).__init__()\n",
    "        self.embedding = nn.Embedding(vocab_size, embedding_dim)\n",
    "        self.lstm = nn.LSTM(embedding_dim, hidden_dim, batch_first=True)\n",
    "        self.attention = nn.Linear(hidden_dim, 1)\n",
    "        self.fc1 = nn.Linear(hidden_dim, 128)\n",
    "        self.fc2 = nn.Linear(128, 1)\n",
    "        self.dropout = nn.Dropout(0.5)\n",
    "        \n",
    "    def forward(self, x):\n",
    "        embedded = self.embedding(x)  # Shape: (batch_size, seq_length, embedding_dim)\n",
    "        lstm_out, _ = self.lstm(embedded)  # Shape: (batch_size, seq_length, hidden_dim)\n",
    "        \n",
    "        # Attention mechanism\n",
    "        attention_weights = torch.softmax(self.attention(lstm_out), dim=1)  # Shape: (batch_size, seq_length, 1)\n",
    "        attention_output = torch.sum(attention_weights * lstm_out, dim=1)  # Shape: (batch_size, hidden_dim)\n",
    "        \n",
    "        x = self.dropout(attention_output)\n",
    "        x = torch.relu(self.fc1(x))\n",
    "        x = self.dropout(x)\n",
    "        x = torch.sigmoid(self.fc2(x))  # Apply sigmoid activation\n",
    "        return x"
   ]
  },
  {
   "cell_type": "markdown",
   "id": "e42c388b-d758-4722-9579-9e884fae3a34",
   "metadata": {},
   "source": [
    "### Evaluation Functions\n",
    "\n",
    "We define functions to evaluate the F1 score and plot the confusion matrix."
   ]
  },
  {
   "cell_type": "code",
   "execution_count": null,
   "id": "bc031a0c-2d12-405a-842f-e609daf34b24",
   "metadata": {},
   "outputs": [],
   "source": [
    "def evaluate_f1_score(model, test_loader):\n",
    "    model.eval()\n",
    "    all_preds = []\n",
    "    all_labels = []\n",
    "    with torch.no_grad():\n",
    "        for texts, labels in test_loader:\n",
    "            outputs = model(texts)\n",
    "            _, predicted = torch.max(outputs.data, 1)\n",
    "            all_preds.extend(predicted.cpu().numpy())\n",
    "            all_labels.extend(labels.cpu().numpy())\n",
    "    \n",
    "    f1 = f1_score(all_labels, all_preds, average='weighted')\n",
    "    return f1\n",
    "\n",
    "def plot_confusion_matrix(model, test_loader):\n",
    "    model.eval()\n",
    "    all_preds = []\n",
    "    all_labels = []\n",
    "    with torch.no_grad():\n",
    "        for texts, labels in test_loader:\n",
    "            outputs = model(texts)\n",
    "            outputs = outputs.squeeze()  # Remove the extra dimension\n",
    "            predicted = (outputs > 0.5).float()  # Apply threshold to convert probabilities to 0 or 1\n",
    "            all_preds.extend(predicted.cpu().numpy())\n",
    "            all_labels.extend(labels.cpu().numpy())\n",
    "    \n",
    "    cm = confusion_matrix(all_labels, all_preds)\n",
    "    plt.figure(figsize=(8, 6))\n",
    "    sns.heatmap(cm, annot=True, fmt='d', cmap='Blues', xticklabels=['Not Spam', 'Spam'], yticklabels=['Not Spam', 'Spam'])\n",
    "    plt.xlabel('Predicted')\n",
    "    plt.ylabel('True')\n",
    "    plt.title('Confusion Matrix')\n",
    "    plt.show()\n",
    "\n"
   ]
  },
  {
   "cell_type": "markdown",
   "id": "f8bf76da-45ac-4f37-bafa-937f3d36330a",
   "metadata": {},
   "source": [
    "### Load Preprocessed Data\n",
    "\n",
    "Load the preprocessed data from saved files"
   ]
  },
  {
   "cell_type": "code",
   "execution_count": null,
   "id": "5e7303a4-fc22-4345-a18e-5ca939a6d015",
   "metadata": {},
   "outputs": [],
   "source": [
    "# Load the saved data\n",
    "X_train_padded = np.load('data/X_train_padded.npy')\n",
    "X_test_padded = np.load('data/X_test_padded.npy')\n",
    "y_train = np.load('data/y_train.npy')\n",
    "y_test = np.load('data/y_test.npy')"
   ]
  },
  {
   "cell_type": "markdown",
   "id": "828574df-9446-4d79-9f6d-eebacc32f965",
   "metadata": {},
   "source": [
    "### Model Parameters\n",
    "Define the model parameters"
   ]
  },
  {
   "cell_type": "code",
   "execution_count": null,
   "id": "8e68ffd4-b18c-4057-8525-70bda4fc0d5c",
   "metadata": {},
   "outputs": [],
   "source": [
    "# Parameters\n",
    "vocab_size = 5000  # Size of the vocabulary\n",
    "embedding_dim = 500  # Embedding dimensions\n",
    "hidden_dim = 128  # LSTM hidden dimensions\n",
    "max_sequence_length = X_train_padded.shape[1]\n",
    "batch_size = 500  # Batch size\n",
    "epochs = 10  # Number of epochs"
   ]
  },
  {
   "cell_type": "markdown",
   "id": "55f63bbb-91c1-491f-8805-40b8f5b4ea26",
   "metadata": {},
   "source": [
    "### Create DataLoader\n",
    "Create DataLoader for training and testing datasets"
   ]
  },
  {
   "cell_type": "code",
   "execution_count": null,
   "id": "54b50f84-8588-456e-b71c-6f4642f9d53e",
   "metadata": {},
   "outputs": [],
   "source": [
    "# Create DataLoader\n",
    "train_dataset = TextDataset(X_train_padded, y_train)\n",
    "test_dataset = TextDataset(X_test_padded, y_test)\n",
    "\n",
    "train_loader = DataLoader(train_dataset, batch_size=batch_size, shuffle=True)\n",
    "test_loader = DataLoader(test_dataset, batch_size=batch_size)"
   ]
  },
  {
   "cell_type": "markdown",
   "id": "65b180ce-3548-4afc-8afd-00d0e16a5a64",
   "metadata": {},
   "source": [
    "### Initialize Model, Loss Function, and Optimizer\n",
    "Initialize the model, loss function, and optimizer."
   ]
  },
  {
   "cell_type": "code",
   "execution_count": null,
   "id": "b99c991d-0441-402f-ba0a-127490233d85",
   "metadata": {},
   "outputs": [],
   "source": [
    "# Initialize model, loss function, and optimizer\n",
    "model = SpamDetector(vocab_size, embedding_dim, hidden_dim, max_sequence_length)\n",
    "criterion = nn.BCELoss()\n",
    "optimizer = optim.Adam(model.parameters(), lr=0.001)"
   ]
  },
  {
   "cell_type": "markdown",
   "id": "25ecfcce-577e-4e87-9f0c-ecafee060315",
   "metadata": {},
   "source": [
    "### Training Loop\n",
    "Train the model and print the loss for every print_every batches."
   ]
  },
  {
   "cell_type": "code",
   "execution_count": 2,
   "id": "fe86360c-8e33-471e-82b8-d8ba2936b2e1",
   "metadata": {},
   "outputs": [
    {
     "name": "stdout",
     "output_type": "stream",
     "text": [
      "Epoch 1/10, Batch 9/9, Loss: 0.6142640709877014\n",
      "Epoch 1/10, Average Loss: 0.6234778430726793\n",
      "Epoch 2/10, Batch 9/9, Loss: 0.6405847072601318\n",
      "Epoch 2/10, Average Loss: 0.6125979092386034\n",
      "Epoch 3/10, Batch 9/9, Loss: 0.579770565032959\n",
      "Epoch 3/10, Average Loss: 0.6078314185142517\n",
      "Epoch 4/10, Batch 9/9, Loss: 0.5565627813339233\n",
      "Epoch 4/10, Average Loss: 0.6008169452349345\n",
      "Epoch 5/10, Batch 9/9, Loss: 0.5841623544692993\n",
      "Epoch 5/10, Average Loss: 0.5887506670422025\n",
      "Epoch 6/10, Batch 9/9, Loss: 0.3911881744861603\n",
      "Epoch 6/10, Average Loss: 0.4657502207491133\n",
      "Epoch 7/10, Batch 9/9, Loss: 0.32561856508255005\n",
      "Epoch 7/10, Average Loss: 0.2889922128783332\n",
      "Epoch 8/10, Batch 9/9, Loss: 0.1362244039773941\n",
      "Epoch 8/10, Average Loss: 0.16773906681272718\n",
      "Epoch 9/10, Batch 9/9, Loss: 0.034969329833984375\n",
      "Epoch 9/10, Average Loss: 0.09925294667482376\n",
      "Epoch 10/10, Batch 9/9, Loss: 0.12261643260717392\n",
      "Epoch 10/10, Average Loss: 0.07450298344095548\n"
     ]
    }
   ],
   "source": [
    "# Training loop \n",
    "print_every = 20  \n",
    "\n",
    "for epoch in range(epochs):\n",
    "    model.train()\n",
    "    running_loss = 0.0\n",
    "    for i, (texts, labels) in enumerate(train_loader, 1):\n",
    "        optimizer.zero_grad()\n",
    "        outputs = model(texts)\n",
    "        outputs = outputs.squeeze()  # Remove the extra dimension\n",
    "        loss = criterion(outputs, labels)\n",
    "        loss.backward()\n",
    "        optimizer.step()\n",
    "        running_loss += loss.item()\n",
    "        \n",
    "        # Print batch number\n",
    "        if i % print_every == 0 or i == len(train_loader):\n",
    "            print(f'Epoch {epoch+1}/{epochs}, Batch {i}/{len(train_loader)}, Loss: {loss.item()}')\n",
    "\n",
    "    # Print epoch loss\n",
    "    print(f'Epoch {epoch+1}/{epochs}, Average Loss: {running_loss/len(train_loader)}')"
   ]
  },
  {
   "cell_type": "markdown",
   "id": "6a2cb266-dcee-46c6-883d-83b0c745145a",
   "metadata": {},
   "source": [
    "### Evaluate Model\n",
    "Evaluate the model using the F1 score and plot the confusion matrix"
   ]
  },
  {
   "cell_type": "code",
   "execution_count": 7,
   "id": "ff6f8963-29f5-4674-99be-706ec0e19db7",
   "metadata": {},
   "outputs": [
    {
     "name": "stdout",
     "output_type": "stream",
     "text": [
      "Test F1 Score: 0.5987\n"
     ]
    },
    {
     "data": {
      "image/png": "[encoded data removed]",
      "text/plain": [
       "<Figure size 800x600 with 2 Axes>"
      ]
     },
     "metadata": {},
     "output_type": "display_data"
    }
   ],
   "source": [
    "# Evaluate F1 Score\n",
    "f1 = evaluate_f1_score(model, test_loader)\n",
    "print(f'Test F1 Score: {f1:.4f}')\n",
    "\n",
    "# Plot Confusion Matrix\n",
    "plot_confusion_matrix(model, test_loader)"
   ]
  },
  {
   "cell_type": "markdown",
   "id": "9d571e2a-beb7-44ae-8e3b-fbf5aafe4755",
   "metadata": {},
   "source": [
    "This notebook demonstrates the complete process of defining, training, and evaluating a neural network for spam detection using LSTM and attention mechanisms. The model is evaluated using the F1 score and confusion matrix to measure its performance.\n"
   ]
  }
 ],
 "metadata": {
  "kernelspec": {
   "display_name": "Python 3 (ipykernel)",
   "language": "python",
   "name": "python3"
  },
  "language_info": {
   "codemirror_mode": {
    "name": "ipython",
    "version": 3
   },
   "file_extension": ".py",
   "mimetype": "text/x-python",
   "name": "python",
   "nbconvert_exporter": "python",
   "pygments_lexer": "ipython3",
   "version": "3.11.9"
  }
 },
 "nbformat": 4,
 "nbformat_minor": 5
}
